{
 "cells": [
  {
   "attachments": {},
   "cell_type": "markdown",
   "metadata": {},
   "source": [
    "### 1. Import dependencies\n"
   ]
  },
  {
   "cell_type": "code",
   "execution_count": null,
   "metadata": {},
   "outputs": [],
   "source": [
    "import discriminator_model as D, generator_model as G\n",
    "import datagenerator as DTG\n",
    "import augmentation\n",
    "\n",
    "import config\n",
    "import training_loop as TL\n",
    "import visualization\n",
    "\n",
    "import callbacks\n",
    "\n",
    "import tensorflow as tf\n",
    "import numpy as np\n",
    "import matplotlib.pyplot as plt"
   ]
  },
  {
   "attachments": {},
   "cell_type": "markdown",
   "metadata": {},
   "source": [
    "### 2. Create models"
   ]
  },
  {
   "cell_type": "code",
   "execution_count": null,
   "metadata": {},
   "outputs": [],
   "source": [
    "INPUT_SHAPE = (256,256,3)\n",
    "\n",
    "dis_filt_list = [16,32,64, 128]\n",
    "dis_filt_list = [32,64,128,192,256, 356]\n",
    "\n",
    "dis_striding_list = [1,2,1,2,1, 1]\n",
    "\n",
    "lr_gen = 1.5e-4\n",
    "lr_dis = 1e-4\n",
    "\n",
    "dis1 = D.CreateDiscriminator(input_shape=INPUT_SHAPE, \n",
    "                        filters=dis_filt_list, \n",
    "                        striding=dis_striding_list, \n",
    "                        ksize=4)\n",
    "dis2 = D.CreateDiscriminator(input_shape=INPUT_SHAPE, \n",
    "                        filters=dis_filt_list, \n",
    "                        striding=dis_striding_list, \n",
    "                        ksize=4)\n",
    "\n",
    "gen1 = G.CreateGenerator(input_shape=INPUT_SHAPE, \n",
    "                    filters=48, \n",
    "                    residual_blocks=6, \n",
    "                    ksize=4)\n",
    "\n",
    "gen2 = G.CreateGenerator(input_shape=INPUT_SHAPE, \n",
    "                    filters=48, \n",
    "                    residual_blocks=6, \n",
    "                    ksize=4)\n",
    "\n",
    "\n",
    "\n",
    "\n",
    "\n",
    "g1_optimizer=tf.keras.optimizers.Adam(learning_rate=lr_gen, beta_1=0.6)\n",
    "d1_optimizer=tf.keras.optimizers.Adam(learning_rate=lr_dis, beta_1=0.6)\n",
    "g2_optimizer=tf.keras.optimizers.Adam(learning_rate=lr_gen, beta_1=0.6)\n",
    "d2_optimizer=tf.keras.optimizers.Adam(learning_rate=lr_dis, beta_1=0.6)\n",
    "\n",
    "\n",
    "gen1.compile()\n",
    "gen2.compile()\n",
    "dis1.compile()\n",
    "dis2.compile()\n",
    "\n",
    "\n",
    "    \n",
    "    \n",
    "gen1.summary()\n",
    "dis1.summary()\n",
    " "
   ]
  },
  {
   "attachments": {},
   "cell_type": "markdown",
   "metadata": {},
   "source": [
    "### 4. Datagenerator\n"
   ]
  },
  {
   "cell_type": "code",
   "execution_count": null,
   "metadata": {},
   "outputs": [],
   "source": [
    "def to_grayscale(img):\n",
    "    out = np.mean(img, axis=-1)\n",
    "    return out.reshape((1, *INPUT_SHAPE))"
   ]
  },
  {
   "cell_type": "code",
   "execution_count": null,
   "metadata": {},
   "outputs": [],
   "source": [
    "\n",
    "#datagen = DTG.TestMNISTGeneator(0, 4)\n",
    "\n",
    "#datagen = DTG.CatDogsCIFARGenerator(augmentation=False)\n",
    "\n",
    "\n",
    "pa = 'path_to_images_x1'\n",
    "pb = 'path_to_images_x2'\n",
    "\n",
    "\n",
    "fill_mode = 'nearest'\n",
    "rand_aug = augmentation.RandAugmentation(vshift=0.05, # 5% vertical random shift\n",
    "                                         hshift=0.05, # 5% horizontal random shift\n",
    "                                         zoom=0.02, # 2% (+-1%) random zoom\n",
    "                                         rotate=10, # +-10deg random rotate\n",
    "                                         hflip=True,  # rand 50% horizontal flip \n",
    "                                         normalize=True,  # normalize\n",
    "                                         fill_strategy=fill_mode, # fill with mirror/nearest) \n",
    ")\n",
    "\n",
    "\n",
    "no_aug = augmentation.AugmentationUnit()\n",
    "\n",
    "\n",
    "datagen = DTG.ImgFileIterator(pa, pb, INPUT_SHAPE, rand_aug, fill_mode=fill_mode)\n",
    "\n",
    "\n",
    "#datagen = DTG.TestMNISTGeneator(6, 3, rand_aug)\n",
    "\n",
    "print(len(datagen))\n",
    "x1, x2 = datagen.__getitem__(0)\n",
    "print(x1.shape, x2.shape)"
   ]
  },
  {
   "attachments": {},
   "cell_type": "markdown",
   "metadata": {},
   "source": [
    "Look for generated images"
   ]
  },
  {
   "cell_type": "code",
   "execution_count": null,
   "metadata": {},
   "outputs": [],
   "source": [
    "CNT = 1\n",
    "arr = []\n",
    "for i in range(CNT ** 2):\n",
    "    print(i+1, '/', CNT**2, '       ', end='\\r')\n",
    "    x1, x2 = datagen.__getitem__(i)\n",
    "    arr.append(x1[0, :])\n",
    "    arr.append(x2[0, :])\n",
    "\n",
    "plt.imshow(visualization.pack_into_array3dim(np.array(arr), (CNT, 2*CNT)), cmap='gray')"
   ]
  },
  {
   "cell_type": "code",
   "execution_count": null,
   "metadata": {},
   "outputs": [],
   "source": [
    "hist_callback = callbacks.HistoryLossesCallback(['generators_loss', 'discriminators_loss'])\n",
    "runtime_visual_callback = callbacks.DynamicGenOutputCallback(datagen, scale=1)\n",
    "wsaver_callback = callbacks.WeightsSaveCallback('CheckPoints\\model1', frequency=1)"
   ]
  },
  {
   "cell_type": "markdown",
   "metadata": {},
   "source": []
  },
  {
   "attachments": {},
   "cell_type": "markdown",
   "metadata": {},
   "source": [
    "### 5. Fit"
   ]
  },
  {
   "cell_type": "code",
   "execution_count": null,
   "metadata": {},
   "outputs": [],
   "source": [
    "\n",
    "history = TL.fit(datagen, gen1, gen2, dis1, dis2,\n",
    " g1_optimizer, g2_optimizer, d1_optimizer, d2_optimizer, 100, [hist_callback, runtime_visual_callback, wsaver_callback])\n",
    "\n"
   ]
  },
  {
   "attachments": {},
   "cell_type": "markdown",
   "metadata": {},
   "source": []
  },
  {
   "attachments": {},
   "cell_type": "markdown",
   "metadata": {},
   "source": [
    "### 6. Learning statistic"
   ]
  },
  {
   "cell_type": "code",
   "execution_count": null,
   "metadata": {},
   "outputs": [],
   "source": [
    "#visualization.plot_history(history)\n",
    "hist_callback.plot()\n",
    "hist_callback.get_size()"
   ]
  },
  {
   "cell_type": "code",
   "execution_count": null,
   "metadata": {},
   "outputs": [],
   "source": [
    "wsaver_callback.load_weights([gen1, gen2, dis1, dis2], eph=None)"
   ]
  },
  {
   "attachments": {},
   "cell_type": "markdown",
   "metadata": {},
   "source": [
    "### 7. Overview of generators output"
   ]
  },
  {
   "cell_type": "code",
   "execution_count": null,
   "metadata": {},
   "outputs": [],
   "source": [
    "\n",
    "H, W = 2,2\n",
    "SAMPLES = H*W\n",
    "\n",
    "# inital data\n",
    "dlen=len(datagen)\n",
    "x1_pack = np.squeeze([datagen.__getitem__(np.random.randint(0, dlen))[0] for i in range(SAMPLES)])\n",
    "x2_pack = np.squeeze([datagen.__getitem__(np.random.randint(0, dlen))[1] for i in range(SAMPLES)])\n",
    "\n",
    "# generated\n",
    "gx2 = np.squeeze(gen1(x1_pack))\n",
    "gx1 = np.squeeze(gen2(x2_pack))\n",
    "\n",
    "# cycle-geenrated\n",
    "cx1 = np.squeeze(gen2(gen1(x1_pack)))\n",
    "cx2 = np.squeeze(gen1(gen2(x2_pack)))\n",
    "\n",
    "#identity\n",
    "ix1 = np.squeeze(gen2(x1_pack))\n",
    "ix2 = np.squeeze(gen1(x2_pack))\n",
    "\n",
    "\n",
    "# figs\n",
    "fig, axs = plt.subplots(2, 4, figsize=(24,12), dpi=200)\n",
    "\n",
    "axs[0, 0].imshow(visualization.pack_into_array3dim(x1_pack, (H, W)), cmap='gray')\n",
    "axs[0, 1].imshow(visualization.pack_into_array3dim(gx2, (H, W)), cmap='gray')\n",
    "axs[0, 2].imshow(visualization.pack_into_array3dim(x2_pack, (H, W)), cmap='gray')\n",
    "axs[0, 3].imshow(visualization.pack_into_array3dim(gx1, (H, W)), cmap='gray')\n",
    "\n",
    "axs[1, 0].imshow(visualization.pack_into_array3dim(cx1, (H, W)), cmap='gray')\n",
    "axs[1, 1].imshow(visualization.pack_into_array3dim(cx2, (H, W)), cmap='gray')\n",
    "axs[1, 2].imshow(visualization.pack_into_array3dim(ix1, (H, W)), cmap='gray')\n",
    "axs[1, 3].imshow(visualization.pack_into_array3dim(ix2, (H, W)), cmap='gray')\n",
    "\n",
    "\n",
    "axs[0, 0].set_title('Input data X1')\n",
    "axs[0, 1].set_title('Generator 1 out')\n",
    "axs[0, 2].set_title('Input data X2')\n",
    "axs[0, 3].set_title('Generator 2 out')\n",
    "\n",
    "axs[1, 0].set_title('Cycle out gx1 = gen2(gen1(x1))')\n",
    "axs[1, 1].set_title('Cycle out gx2 = gen1(gen2(x2))')\n",
    "axs[1, 2].set_title('Identity out gen2(x1)')\n",
    "axs[1, 3].set_title('Identity out gen1(x2)')\n",
    "\n",
    "fig.tight_layout()\n",
    "for axi in axs: \n",
    "    for ax in axi: ax.grid(False)\n"
   ]
  },
  {
   "cell_type": "code",
   "execution_count": null,
   "metadata": {},
   "outputs": [],
   "source": []
  },
  {
   "cell_type": "code",
   "execution_count": null,
   "metadata": {},
   "outputs": [],
   "source": []
  }
 ],
 "metadata": {
  "kernelspec": {
   "display_name": "Python 3",
   "language": "python",
   "name": "python3"
  },
  "language_info": {
   "codemirror_mode": {
    "name": "ipython",
    "version": 3
   },
   "file_extension": ".py",
   "mimetype": "text/x-python",
   "name": "python",
   "nbconvert_exporter": "python",
   "pygments_lexer": "ipython3",
   "version": "3.10.0"
  },
  "orig_nbformat": 4,
  "vscode": {
   "interpreter": {
    "hash": "afb734500600fd355917ca529030176ea0ca205570884b88f2f6f7d791fd3fbe"
   }
  }
 },
 "nbformat": 4,
 "nbformat_minor": 2
}
